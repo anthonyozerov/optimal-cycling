{
 "cells": [
  {
   "cell_type": "code",
   "execution_count": 57,
   "id": "b96cb0c9-06f6-4920-b4a7-b69c335ccb32",
   "metadata": {},
   "outputs": [],
   "source": [
    "import numpy as np\n",
    "import scipy.optimize\n",
    "import matplotlib.pyplot as plt\n",
    "import pandas as pd"
   ]
  },
  {
   "cell_type": "code",
   "execution_count": 28,
   "id": "9d8a6be8-82d7-4c1b-b1a0-53000453e408",
   "metadata": {},
   "outputs": [
    {
     "name": "stdout",
     "output_type": "stream",
     "text": [
      "Index(['id', 'age', 'gender', 'activities', 'bike', 'run', 'swim', 'other',\n",
      "       '1s_critical_power', '15s_critical_power', '2m_critical_power',\n",
      "       '3m_critical_power', '5m_critical_power', '8m_critical_power',\n",
      "       '10m_critical_power', '20m_critical_power', '30m_critical_power',\n",
      "       '1m_peak_wpk', '5m_peak_wpk', '10m_peak_wpk', '20m_peak_wpk',\n",
      "       '30m_peak_wpk', '20s_peak', '20s_peak_wpk', '60s_peak', '60s_peak_wpk',\n",
      "       '180s_peak', '180s_peak_wpk', '240s_peak', '240s_peak_wpk', '420s_peak',\n",
      "       '420s_peak_wpk', '720s_peak', '720s_peak_wpk', 'weightkg',\n",
      "       ' weightstd'],\n",
      "      dtype='object')\n"
     ]
    }
   ],
   "source": [
    "df = pd.read_csv(\"data/athletes.csv\")\n",
    "print(df.columns)"
   ]
  },
  {
   "cell_type": "code",
   "execution_count": 236,
   "id": "613bed57-9f3f-45da-8cb7-66b1b921e6c4",
   "metadata": {},
   "outputs": [
    {
     "name": "stdout",
     "output_type": "stream",
     "text": [
      "1s_critical_power     1213.00000\n",
      "15s_critical_power     866.13333\n",
      "2m_critical_power      395.71865\n",
      "3m_critical_power      381.50727\n",
      "5m_critical_power      333.36000\n",
      "8m_critical_power      308.48125\n",
      "10m_critical_power     302.50333\n",
      "20m_critical_power     295.49868\n",
      "30m_critical_power     289.45358\n",
      "Name: 42, dtype: float64\n"
     ]
    }
   ],
   "source": [
    "values = df[[\"1s_critical_power\",'15s_critical_power', '2m_critical_power','3m_critical_power', '5m_critical_power', '8m_critical_power','10m_critical_power', '20m_critical_power', '30m_critical_power']]\n",
    "x = [1,15,120,180,300,480,600,1200,1800]\n",
    "#values = df[['1s_critical_power','20s_peak', '60s_peak','180s_peak', '240s_peak', '420s_peak','720s_peak']]\n",
    "#x = [1,20,60,180,240,420,720]\n",
    "\n",
    "p1 = values.iloc[42,:]\n",
    "print(p1)"
   ]
  },
  {
   "cell_type": "code",
   "execution_count": 237,
   "id": "cd8cf264-f6dc-4d37-840e-4023588f735c",
   "metadata": {},
   "outputs": [],
   "source": [
    "startPmax = 1000\n",
    "startW = 10000\n",
    "startCP =200\n",
    "startA =30\n",
    "startCPmax=1800\n",
    "\n",
    "MaxTime = 7200\n"
   ]
  },
  {
   "cell_type": "code",
   "execution_count": 240,
   "id": "3e89d169-117e-4762-b695-6925f8f06cc0",
   "metadata": {},
   "outputs": [],
   "source": [
    "def func(x,W1,Pmax, CP, A, cpmax):\n",
    "    y = (W1/x*(1-np.exp(-x/(W1/(Pmax-CP)))) + CP - A*(np.log(x/cpmax))*(x>cpmax))\n",
    "    return y\n",
    "\n",
    "w1, pmax, cp, a, cpmax = scipy.optimize.curve_fit(func, xdata = x, ydata=p1, p0 = [startW,startPmax,startCP,startA,startCPmax], bounds = ([0,0,0,0,0],[np.inf,np.inf,np.inf,np.inf,np.inf]),maxfev=50000)[0]"
   ]
  },
  {
   "cell_type": "code",
   "execution_count": 288,
   "id": "fae19a5a-d88e-4a76-a977-6103e1f49f32",
   "metadata": {},
   "outputs": [
    {
     "data": {
      "image/png": "[encoded data removed]",
      "text/plain": [
       "<Figure size 720x576 with 1 Axes>"
      ]
     },
     "metadata": {
      "needs_background": "light"
     },
     "output_type": "display_data"
    },
    {
     "name": "stdout",
     "output_type": "stream",
     "text": [
      "269.77158362404384\n"
     ]
    }
   ],
   "source": [
    "pred = []\n",
    "totl = []\n",
    "for i in range(1,6000):\n",
    "    pred.append(func(i,w1, pmax, cp, a, cpmax))\n",
    "    totl.append(i)\n",
    "\n",
    "plt.figure(figsize = (10,8))\n",
    "plt.plot(np.log(x), p1, 'b.')\n",
    "plt.plot(np.log(totl), pred, 'r')\n",
    "plt.xlabel('x')\n",
    "plt.ylabel('y')\n",
    "plt.show()\n",
    "print(func(3600,w1, pmax, cp, a, cpmax))"
   ]
  },
  {
   "cell_type": "code",
   "execution_count": 292,
   "id": "43afc671-662f-46d5-aa49-f25aa4de6425",
   "metadata": {},
   "outputs": [],
   "source": [
    "def diff(time,power):\n",
    "    yt = func(time,w1,pmax,cp,a,cpmax)\n",
    "    return (yt - power )**2\n",
    "\n",
    "power = 302.5 ## Put the power you want the time of here\n",
    "res = (scipy.optimize.minimize(diff, 1, args=(power), method='Nelder-Mead', tol=1e-6))"
   ]
  },
  {
   "cell_type": "code",
   "execution_count": 290,
   "id": "209f4fc0-5bde-4a67-b626-e6601c15f0b3",
   "metadata": {},
   "outputs": [
    {
     "data": {
      "text/plain": [
       "846.3223594665542"
      ]
     },
     "execution_count": 290,
     "metadata": {},
     "output_type": "execute_result"
    }
   ],
   "source": [
    "res.x[0]"
   ]
  },
  {
   "cell_type": "code",
   "execution_count": null,
   "id": "f5e91383-ac18-4804-a0fa-41bc54c9b15f",
   "metadata": {},
   "outputs": [],
   "source": []
  }
 ],
 "metadata": {
  "kernelspec": {
   "display_name": "Python 3",
   "language": "python",
   "name": "python3"
  },
  "language_info": {
   "codemirror_mode": {
    "name": "ipython",
    "version": 3
   },
   "file_extension": ".py",
   "mimetype": "text/x-python",
   "name": "python",
   "nbconvert_exporter": "python",
   "pygments_lexer": "ipython3",
   "version": "3.9.9"
  }
 },
 "nbformat": 4,
 "nbformat_minor": 5
}
