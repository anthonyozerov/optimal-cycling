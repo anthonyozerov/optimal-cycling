{
 "cells": [
  {
   "cell_type": "code",
   "execution_count": 57,
   "id": "b96cb0c9-06f6-4920-b4a7-b69c335ccb32",
   "metadata": {},
   "outputs": [],
   "source": [
    "import numpy as np\n",
    "import scipy.optimize\n",
    "import matplotlib.pyplot as plt\n",
    "import pandas as pd"
   ]
  },
  {
   "cell_type": "code",
   "execution_count": 28,
   "id": "9d8a6be8-82d7-4c1b-b1a0-53000453e408",
   "metadata": {},
   "outputs": [
    {
     "name": "stdout",
     "output_type": "stream",
     "text": [
      "Index(['id', 'age', 'gender', 'activities', 'bike', 'run', 'swim', 'other',\n",
      "       '1s_critical_power', '15s_critical_power', '2m_critical_power',\n",
      "       '3m_critical_power', '5m_critical_power', '8m_critical_power',\n",
      "       '10m_critical_power', '20m_critical_power', '30m_critical_power',\n",
      "       '1m_peak_wpk', '5m_peak_wpk', '10m_peak_wpk', '20m_peak_wpk',\n",
      "       '30m_peak_wpk', '20s_peak', '20s_peak_wpk', '60s_peak', '60s_peak_wpk',\n",
      "       '180s_peak', '180s_peak_wpk', '240s_peak', '240s_peak_wpk', '420s_peak',\n",
      "       '420s_peak_wpk', '720s_peak', '720s_peak_wpk', 'weightkg',\n",
      "       ' weightstd'],\n",
      "      dtype='object')\n"
     ]
    }
   ],
   "source": [
    "df = pd.read_csv(\"data/athletes.csv\")\n",
    "print(df.columns)"
   ]
  },
  {
   "cell_type": "code",
   "execution_count": 450,
   "id": "613bed57-9f3f-45da-8cb7-66b1b921e6c4",
   "metadata": {},
   "outputs": [
    {
     "name": "stdout",
     "output_type": "stream",
     "text": [
      "1s_critical_power     806.00000\n",
      "15s_critical_power    617.33333\n",
      "2m_critical_power     317.27500\n",
      "3m_critical_power     303.60000\n",
      "5m_critical_power     297.18333\n",
      "8m_critical_power     272.70208\n",
      "10m_critical_power    270.21667\n",
      "20m_critical_power    268.05750\n",
      "30m_critical_power    251.78333\n",
      "Name: 180, dtype: float64\n"
     ]
    }
   ],
   "source": [
    "values = df[[\"1s_critical_power\",'15s_critical_power', '2m_critical_power','3m_critical_power', '5m_critical_power', '8m_critical_power','10m_critical_power', '20m_critical_power', '30m_critical_power']]\n",
    "#x = [1,5,15,30,60,60*5,60*10,20*60]\n",
    "x = [1,5,10,15,30,60,60*5,60*10,20*60]\n",
    "#values = df[['1s_critical_power','20s_peak', '60s_peak','180s_peak', '240s_peak', '420s_peak','720s_peak']]\n",
    "x2 = [1,15,120,180,300,480,600,1200,1800]\n",
    "#x2= [1,5,15,60, 60*5, 60*10, 60*20]\n",
    "p1 = values.iloc[180,:]\n",
    "print(p1)\n",
    "\n",
    "\n",
    "#p1 = [1362,1297,1149,854,740,494,452,406]#Van Der Poel Puncheur\n",
    "\n",
    "p1 = [1470,1422,1266,1025,779,698,488,408,387]\n",
    "\n",
    "\n",
    "p2 = [1021,910,590,556,507,501,484,424,382]# Filippo Ganna Time trialist\n",
    "\n",
    "#p2 = [951, 732, 646,558, 544, 526, 431]"
   ]
  },
  {
   "cell_type": "code",
   "execution_count": 451,
   "id": "cd8cf264-f6dc-4d37-840e-4023588f735c",
   "metadata": {},
   "outputs": [],
   "source": [
    "startPmax = 1000\n",
    "startW = 10000\n",
    "startCP =200\n",
    "startA =30\n",
    "startCPmax=1800\n",
    "\n",
    "MaxTime = 7200\n"
   ]
  },
  {
   "cell_type": "code",
   "execution_count": 452,
   "id": "3e89d169-117e-4762-b695-6925f8f06cc0",
   "metadata": {},
   "outputs": [],
   "source": [
    "def func(x,W1,Pmax, CP, A, cpmax):\n",
    "    y = (W1/x*(1-np.exp(-x/(W1/(Pmax-CP)))) + CP - A*(np.log(x/cpmax))*(x>cpmax))\n",
    "    return y\n",
    "\n",
    "w1, pmax, cp, a, cpmax = scipy.optimize.curve_fit(func, xdata = x, ydata=p1, p0 = [startW,startPmax,startCP,startA,startCPmax], bounds = ([0,0,0,0,0],[np.inf,np.inf,np.inf,np.inf,np.inf]),maxfev=50000)[0]\n",
    "\n",
    "w2, pmax2, cp2, a2, cpmax2 = scipy.optimize.curve_fit(func, xdata = x2, ydata=p2, p0 = [startW,startPmax,startCP,startA,startCPmax], bounds = ([0,0,0,0,0],[np.inf,np.inf,np.inf,np.inf,np.inf]),maxfev=500000)[0]"
   ]
  },
  {
   "cell_type": "code",
   "execution_count": 454,
   "id": "fae19a5a-d88e-4a76-a977-6103e1f49f32",
   "metadata": {},
   "outputs": [
    {
     "data": {
      "image/png": "[encoded data removed]",
      "text/plain": [
       "<Figure size 720x576 with 1 Axes>"
      ]
     },
     "metadata": {
      "needs_background": "light"
     },
     "output_type": "display_data"
    },
    {
     "name": "stdout",
     "output_type": "stream",
     "text": [
      "385.16638868728205\n"
     ]
    }
   ],
   "source": [
    "pred1 = []\n",
    "pred2 = []\n",
    "totl = []\n",
    "for i in range(1,6000):\n",
    "    pred1.append(func(i,w1, pmax, cp, a, cpmax))\n",
    "    pred2.append(func(i,w2, pmax2, cp2, a2, cpmax2))\n",
    "    totl.append(i)\n",
    "\n",
    "plt.figure(figsize = (10,8))\n",
    "#plt.plot(x, p1, 'b.')\n",
    "plt.plot(x2, p2, 'g.')\n",
    "#plt.plot(totl, pred1, 'r')\n",
    "plt.plot(totl, pred2, 'b')\n",
    "plt.xlabel('Seconds')\n",
    "plt.ylabel('Power Output (W)')\n",
    "plt.xscale('log')\n",
    "plt.show()\n",
    "print(func(3600,w1, pmax, cp, a, cpmax))"
   ]
  },
  {
   "cell_type": "code",
   "execution_count": 449,
   "id": "43afc671-662f-46d5-aa49-f25aa4de6425",
   "metadata": {},
   "outputs": [],
   "source": [
    "\n",
    "def diff(time,power):\n",
    "    yt = func(time,w1,pmax,cp,a,cpmax)\n",
    "    return (yt - power )**2\n",
    "\n",
    "power = 500 ## Put the power you want the time of here\n",
    "res = (scipy.optimize.minimize(diff, 1, args=(power), method='Nelder-Mead', tol=1e-6))"
   ]
  },
  {
   "cell_type": "code",
   "execution_count": 410,
   "id": "209f4fc0-5bde-4a67-b626-e6601c15f0b3",
   "metadata": {},
   "outputs": [
    {
     "data": {
      "text/plain": [
       "220.02540893554723"
      ]
     },
     "execution_count": 410,
     "metadata": {},
     "output_type": "execute_result"
    }
   ],
   "source": [
    "res.x[0]"
   ]
  },
  {
   "cell_type": "code",
   "execution_count": null,
   "id": "f5e91383-ac18-4804-a0fa-41bc54c9b15f",
   "metadata": {},
   "outputs": [],
   "source": []
  }
 ],
 "metadata": {
  "kernelspec": {
   "display_name": "Python 3",
   "language": "python",
   "name": "python3"
  },
  "language_info": {
   "codemirror_mode": {
    "name": "ipython",
    "version": 3
   },
   "file_extension": ".py",
   "mimetype": "text/x-python",
   "name": "python",
   "nbconvert_exporter": "python",
   "pygments_lexer": "ipython3",
   "version": "3.9.9"
  }
 },
 "nbformat": 4,
 "nbformat_minor": 5
}
